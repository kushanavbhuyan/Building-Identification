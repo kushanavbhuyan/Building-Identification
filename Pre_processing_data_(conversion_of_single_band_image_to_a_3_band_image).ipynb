{
  "nbformat": 4,
  "nbformat_minor": 0,
  "metadata": {
    "colab": {
      "name": "Pre-processing data (conversion of single-band image to a 3-band image).ipynb",
      "provenance": [],
      "collapsed_sections": [],
      "authorship_tag": "ABX9TyP/oHHo0rgz/JieT43T2ve+",
      "include_colab_link": true
    },
    "kernelspec": {
      "name": "python3",
      "display_name": "Python 3"
    }
  },
  "cells": [
    {
      "cell_type": "markdown",
      "metadata": {
        "id": "view-in-github",
        "colab_type": "text"
      },
      "source": [
        "<a href=\"https://colab.research.google.com/github/kushanavbhuyan/U-Net-code-for-Building-Detection/blob/main/Pre_processing_data_(conversion_of_single_band_image_to_a_3_band_image).ipynb\" target=\"_parent\"><img src=\"https://colab.research.google.com/assets/colab-badge.svg\" alt=\"Open In Colab\"/></a>"
      ]
    },
    {
      "cell_type": "code",
      "metadata": {
        "colab": {
          "base_uri": "https://localhost:8080/"
        },
        "id": "y7Qcs4LEhgZy",
        "outputId": "dec6231a-84de-40b7-9048-c90cebd7b48c"
      },
      "source": [
        "#connect to the googee drive\n",
        "from google.colab import drive\n",
        "drive.mount('/content/drive')"
      ],
      "execution_count": 26,
      "outputs": [
        {
          "output_type": "stream",
          "text": [
            "Drive already mounted at /content/drive; to attempt to forcibly remount, call drive.mount(\"/content/drive\", force_remount=True).\n"
          ],
          "name": "stdout"
        }
      ]
    },
    {
      "cell_type": "code",
      "metadata": {
        "id": "_lE-BOuvjUf1"
      },
      "source": [
        "import glob\n",
        "import os\n",
        "import numpy as np\n",
        "import cv2\n",
        "import gdal"
      ],
      "execution_count": 27,
      "outputs": []
    },
    {
      "cell_type": "code",
      "metadata": {
        "id": "rGr1koDpjmQ_"
      },
      "source": [
        "images = [cv2.imread(file) for file in glob.glob(\"/content/drive/My Drive/Kushanav MSc Thesis shared folder/Training Model/Data required/Train_old/*.tif\")]\n",
        "directory = \"/content/drive/My Drive/Kushanav MSc Thesis shared folder/Training Model/Data required/Train_labels/\""
      ],
      "execution_count": 28,
      "outputs": []
    },
    {
      "cell_type": "code",
      "metadata": {
        "colab": {
          "base_uri": "https://localhost:8080/"
        },
        "id": "n7m7zsM-gRlw",
        "outputId": "af6314d8-92a0-4333-c72e-4a454daeb57e"
      },
      "source": [
        "len(images)"
      ],
      "execution_count": 29,
      "outputs": [
        {
          "output_type": "execute_result",
          "data": {
            "text/plain": [
              "210"
            ]
          },
          "metadata": {
            "tags": []
          },
          "execution_count": 29
        }
      ]
    },
    {
      "cell_type": "code",
      "metadata": {
        "colab": {
          "base_uri": "https://localhost:8080/"
        },
        "id": "qwbvvemDhEra",
        "outputId": "5afebaab-98a2-46f4-e304-bff94dbdbebf"
      },
      "source": [
        "i = 0\n",
        "for read in glob.glob(\"/content/drive/My Drive/Kushanav MSc Thesis shared folder/Training Model/Data required/Train_old/*.tif\"):\n",
        "  print(read)\n",
        "  i += 1\n",
        "  image_data = gdal.Open(read)  \n",
        "  bands = [image_data.GetRasterBand(i+1).ReadAsArray() for i in range(image_data.RasterCount)]\n",
        "  bands = np.stack(bands, axis = 2)\n",
        "  bands = np.concatenate((bands, bands, bands), axis=2)\n",
        "\n",
        "  cv2.imwrite(os.path.join(directory + \"Tile_1 ({}) .tif\".format(i)), bands)\n",
        "  \n",
        "print(\"Conversion of single image bands into 3-bands successful !!!\")"
      ],
      "execution_count": 30,
      "outputs": [
        {
          "output_type": "stream",
          "text": [
            "/content/drive/My Drive/Kushanav MSc Thesis shared folder/Training Model/Data required/Train_old/Tile_1 (55).tif\n",
            "/content/drive/My Drive/Kushanav MSc Thesis shared folder/Training Model/Data required/Train_old/Tile_1 (52).tif\n",
            "/content/drive/My Drive/Kushanav MSc Thesis shared folder/Training Model/Data required/Train_old/Tile_1 (51).tif\n",
            "/content/drive/My Drive/Kushanav MSc Thesis shared folder/Training Model/Data required/Train_old/Tile_1 (49).tif\n",
            "/content/drive/My Drive/Kushanav MSc Thesis shared folder/Training Model/Data required/Train_old/Tile_1 (50).tif\n",
            "/content/drive/My Drive/Kushanav MSc Thesis shared folder/Training Model/Data required/Train_old/Tile_1 (45).tif\n",
            "/content/drive/My Drive/Kushanav MSc Thesis shared folder/Training Model/Data required/Train_old/Tile_1 (46).tif\n",
            "/content/drive/My Drive/Kushanav MSc Thesis shared folder/Training Model/Data required/Train_old/Tile_1 (48).tif\n",
            "/content/drive/My Drive/Kushanav MSc Thesis shared folder/Training Model/Data required/Train_old/Tile_1 (47).tif\n",
            "/content/drive/My Drive/Kushanav MSc Thesis shared folder/Training Model/Data required/Train_old/Tile_1 (54).tif\n",
            "/content/drive/My Drive/Kushanav MSc Thesis shared folder/Training Model/Data required/Train_old/Tile_1 (53).tif\n",
            "/content/drive/My Drive/Kushanav MSc Thesis shared folder/Training Model/Data required/Train_old/Tile_1 (44).tif\n",
            "/content/drive/My Drive/Kushanav MSc Thesis shared folder/Training Model/Data required/Train_old/Tile_1 (43).tif\n",
            "/content/drive/My Drive/Kushanav MSc Thesis shared folder/Training Model/Data required/Train_old/Tile_1 (32).tif\n",
            "/content/drive/My Drive/Kushanav MSc Thesis shared folder/Training Model/Data required/Train_old/Tile_1 (38).tif\n",
            "/content/drive/My Drive/Kushanav MSc Thesis shared folder/Training Model/Data required/Train_old/Tile_1 (39).tif\n",
            "/content/drive/My Drive/Kushanav MSc Thesis shared folder/Training Model/Data required/Train_old/Tile_1 (37).tif\n",
            "/content/drive/My Drive/Kushanav MSc Thesis shared folder/Training Model/Data required/Train_old/Tile_1 (36).tif\n",
            "/content/drive/My Drive/Kushanav MSc Thesis shared folder/Training Model/Data required/Train_old/Tile_1 (34).tif\n",
            "/content/drive/My Drive/Kushanav MSc Thesis shared folder/Training Model/Data required/Train_old/Tile_1 (35).tif\n",
            "/content/drive/My Drive/Kushanav MSc Thesis shared folder/Training Model/Data required/Train_old/Tile_1 (33).tif\n",
            "/content/drive/My Drive/Kushanav MSc Thesis shared folder/Training Model/Data required/Train_old/Tile_1 (42).tif\n",
            "/content/drive/My Drive/Kushanav MSc Thesis shared folder/Training Model/Data required/Train_old/Tile_1 (27).tif\n",
            "/content/drive/My Drive/Kushanav MSc Thesis shared folder/Training Model/Data required/Train_old/Tile_1 (26).tif\n",
            "/content/drive/My Drive/Kushanav MSc Thesis shared folder/Training Model/Data required/Train_old/Tile_1 (25).tif\n",
            "/content/drive/My Drive/Kushanav MSc Thesis shared folder/Training Model/Data required/Train_old/Tile_1 (20).tif\n",
            "/content/drive/My Drive/Kushanav MSc Thesis shared folder/Training Model/Data required/Train_old/Tile_1 (21).tif\n",
            "/content/drive/My Drive/Kushanav MSc Thesis shared folder/Training Model/Data required/Train_old/Tile_1 (22).tif\n",
            "/content/drive/My Drive/Kushanav MSc Thesis shared folder/Training Model/Data required/Train_old/Tile_1 (24).tif\n",
            "/content/drive/My Drive/Kushanav MSc Thesis shared folder/Training Model/Data required/Train_old/Tile_1 (23).tif\n",
            "/content/drive/My Drive/Kushanav MSc Thesis shared folder/Training Model/Data required/Train_old/Tile_1 (41).tif\n",
            "/content/drive/My Drive/Kushanav MSc Thesis shared folder/Training Model/Data required/Train_old/Tile_1 (40).tif\n",
            "/content/drive/My Drive/Kushanav MSc Thesis shared folder/Training Model/Data required/Train_old/Tile_1 (31).tif\n",
            "/content/drive/My Drive/Kushanav MSc Thesis shared folder/Training Model/Data required/Train_old/Tile_1 (30).tif\n",
            "/content/drive/My Drive/Kushanav MSc Thesis shared folder/Training Model/Data required/Train_old/Tile_1 (29).tif\n",
            "/content/drive/My Drive/Kushanav MSc Thesis shared folder/Training Model/Data required/Train_old/Tile_1 (14).tif\n",
            "/content/drive/My Drive/Kushanav MSc Thesis shared folder/Training Model/Data required/Train_old/Tile_1 (12).tif\n",
            "/content/drive/My Drive/Kushanav MSc Thesis shared folder/Training Model/Data required/Train_old/Tile_1 (13).tif\n",
            "/content/drive/My Drive/Kushanav MSc Thesis shared folder/Training Model/Data required/Train_old/Tile_1 (11).tif\n",
            "/content/drive/My Drive/Kushanav MSc Thesis shared folder/Training Model/Data required/Train_old/Tile_1 (9).tif\n",
            "/content/drive/My Drive/Kushanav MSc Thesis shared folder/Training Model/Data required/Train_old/Tile_1 (10).tif\n",
            "/content/drive/My Drive/Kushanav MSc Thesis shared folder/Training Model/Data required/Train_old/Tile_1 (15).tif\n",
            "/content/drive/My Drive/Kushanav MSc Thesis shared folder/Training Model/Data required/Train_old/Tile_1 (16).tif\n",
            "/content/drive/My Drive/Kushanav MSc Thesis shared folder/Training Model/Data required/Train_old/Tile_1 (28).tif\n",
            "/content/drive/My Drive/Kushanav MSc Thesis shared folder/Training Model/Data required/Train_old/Tile_1 (19).tif\n",
            "/content/drive/My Drive/Kushanav MSc Thesis shared folder/Training Model/Data required/Train_old/Tile_1 (18).tif\n",
            "/content/drive/My Drive/Kushanav MSc Thesis shared folder/Training Model/Data required/Train_old/Tile_1 (17).tif\n",
            "/content/drive/My Drive/Kushanav MSc Thesis shared folder/Training Model/Data required/Train_old/Tile_1 (8).tif\n",
            "/content/drive/My Drive/Kushanav MSc Thesis shared folder/Training Model/Data required/Train_old/Tile_1 (7).tif\n",
            "/content/drive/My Drive/Kushanav MSc Thesis shared folder/Training Model/Data required/Train_old/Tile_1 (120).tif\n",
            "/content/drive/My Drive/Kushanav MSc Thesis shared folder/Training Model/Data required/Train_old/Tile_1 (121).tif\n",
            "/content/drive/My Drive/Kushanav MSc Thesis shared folder/Training Model/Data required/Train_old/Tile_1 (119).tif\n",
            "/content/drive/My Drive/Kushanav MSc Thesis shared folder/Training Model/Data required/Train_old/Tile_1 (117).tif\n",
            "/content/drive/My Drive/Kushanav MSc Thesis shared folder/Training Model/Data required/Train_old/Tile_1 (115).tif\n",
            "/content/drive/My Drive/Kushanav MSc Thesis shared folder/Training Model/Data required/Train_old/Tile_1 (114).tif\n",
            "/content/drive/My Drive/Kushanav MSc Thesis shared folder/Training Model/Data required/Train_old/Tile_1 (116).tif\n",
            "/content/drive/My Drive/Kushanav MSc Thesis shared folder/Training Model/Data required/Train_old/Tile_1 (118).tif\n",
            "/content/drive/My Drive/Kushanav MSc Thesis shared folder/Training Model/Data required/Train_old/Tile_1 (123).tif\n",
            "/content/drive/My Drive/Kushanav MSc Thesis shared folder/Training Model/Data required/Train_old/Tile_1 (122).tif\n",
            "/content/drive/My Drive/Kushanav MSc Thesis shared folder/Training Model/Data required/Train_old/Tile_1 (113).tif\n",
            "/content/drive/My Drive/Kushanav MSc Thesis shared folder/Training Model/Data required/Train_old/Tile_1 (110).tif\n",
            "/content/drive/My Drive/Kushanav MSc Thesis shared folder/Training Model/Data required/Train_old/Tile_1 (109).tif\n",
            "/content/drive/My Drive/Kushanav MSc Thesis shared folder/Training Model/Data required/Train_old/Tile_1 (104).tif\n",
            "/content/drive/My Drive/Kushanav MSc Thesis shared folder/Training Model/Data required/Train_old/Tile_1 (106).tif\n",
            "/content/drive/My Drive/Kushanav MSc Thesis shared folder/Training Model/Data required/Train_old/Tile_1 (108).tif\n",
            "/content/drive/My Drive/Kushanav MSc Thesis shared folder/Training Model/Data required/Train_old/Tile_1 (103).tif\n",
            "/content/drive/My Drive/Kushanav MSc Thesis shared folder/Training Model/Data required/Train_old/Tile_1 (105).tif\n",
            "/content/drive/My Drive/Kushanav MSc Thesis shared folder/Training Model/Data required/Train_old/Tile_1 (107).tif\n",
            "/content/drive/My Drive/Kushanav MSc Thesis shared folder/Training Model/Data required/Train_old/Tile_1 (112).tif\n",
            "/content/drive/My Drive/Kushanav MSc Thesis shared folder/Training Model/Data required/Train_old/Tile_1 (111).tif\n",
            "/content/drive/My Drive/Kushanav MSc Thesis shared folder/Training Model/Data required/Train_old/Tile_1 (102).tif\n",
            "/content/drive/My Drive/Kushanav MSc Thesis shared folder/Training Model/Data required/Train_old/Tile_1 (98).tif\n",
            "/content/drive/My Drive/Kushanav MSc Thesis shared folder/Training Model/Data required/Train_old/Tile_1 (99).tif\n",
            "/content/drive/My Drive/Kushanav MSc Thesis shared folder/Training Model/Data required/Train_old/Tile_1 (97).tif\n",
            "/content/drive/My Drive/Kushanav MSc Thesis shared folder/Training Model/Data required/Train_old/Tile_1 (93).tif\n",
            "/content/drive/My Drive/Kushanav MSc Thesis shared folder/Training Model/Data required/Train_old/Tile_1 (94).tif\n",
            "/content/drive/My Drive/Kushanav MSc Thesis shared folder/Training Model/Data required/Train_old/Tile_1 (95).tif\n",
            "/content/drive/My Drive/Kushanav MSc Thesis shared folder/Training Model/Data required/Train_old/Tile_1 (92).tif\n",
            "/content/drive/My Drive/Kushanav MSc Thesis shared folder/Training Model/Data required/Train_old/Tile_1 (96).tif\n",
            "/content/drive/My Drive/Kushanav MSc Thesis shared folder/Training Model/Data required/Train_old/Tile_1 (101).tif\n",
            "/content/drive/My Drive/Kushanav MSc Thesis shared folder/Training Model/Data required/Train_old/Tile_1 (84).tif\n",
            "/content/drive/My Drive/Kushanav MSc Thesis shared folder/Training Model/Data required/Train_old/Tile_1 (82).tif\n",
            "/content/drive/My Drive/Kushanav MSc Thesis shared folder/Training Model/Data required/Train_old/Tile_1 (86).tif\n",
            "/content/drive/My Drive/Kushanav MSc Thesis shared folder/Training Model/Data required/Train_old/Tile_1 (85).tif\n",
            "/content/drive/My Drive/Kushanav MSc Thesis shared folder/Training Model/Data required/Train_old/Tile_1 (81).tif\n",
            "/content/drive/My Drive/Kushanav MSc Thesis shared folder/Training Model/Data required/Train_old/Tile_1 (83).tif\n",
            "/content/drive/My Drive/Kushanav MSc Thesis shared folder/Training Model/Data required/Train_old/Tile_1 (87).tif\n",
            "/content/drive/My Drive/Kushanav MSc Thesis shared folder/Training Model/Data required/Train_old/Tile_1 (80).tif\n",
            "/content/drive/My Drive/Kushanav MSc Thesis shared folder/Training Model/Data required/Train_old/Tile_1 (100).tif\n",
            "/content/drive/My Drive/Kushanav MSc Thesis shared folder/Training Model/Data required/Train_old/Tile_1 (91).tif\n",
            "/content/drive/My Drive/Kushanav MSc Thesis shared folder/Training Model/Data required/Train_old/Tile_1 (90).tif\n",
            "/content/drive/My Drive/Kushanav MSc Thesis shared folder/Training Model/Data required/Train_old/Tile_1 (89).tif\n",
            "/content/drive/My Drive/Kushanav MSc Thesis shared folder/Training Model/Data required/Train_old/Tile_1 (75).tif\n",
            "/content/drive/My Drive/Kushanav MSc Thesis shared folder/Training Model/Data required/Train_old/Tile_1 (76).tif\n",
            "/content/drive/My Drive/Kushanav MSc Thesis shared folder/Training Model/Data required/Train_old/Tile_1 (74).tif\n",
            "/content/drive/My Drive/Kushanav MSc Thesis shared folder/Training Model/Data required/Train_old/Tile_1 (70).tif\n",
            "/content/drive/My Drive/Kushanav MSc Thesis shared folder/Training Model/Data required/Train_old/Tile_1 (69).tif\n",
            "/content/drive/My Drive/Kushanav MSc Thesis shared folder/Training Model/Data required/Train_old/Tile_1 (73).tif\n",
            "/content/drive/My Drive/Kushanav MSc Thesis shared folder/Training Model/Data required/Train_old/Tile_1 (71).tif\n",
            "/content/drive/My Drive/Kushanav MSc Thesis shared folder/Training Model/Data required/Train_old/Tile_1 (72).tif\n",
            "/content/drive/My Drive/Kushanav MSc Thesis shared folder/Training Model/Data required/Train_old/Tile_1 (88).tif\n",
            "/content/drive/My Drive/Kushanav MSc Thesis shared folder/Training Model/Data required/Train_old/Tile_1 (64).tif\n",
            "/content/drive/My Drive/Kushanav MSc Thesis shared folder/Training Model/Data required/Train_old/Tile_1 (63).tif\n",
            "/content/drive/My Drive/Kushanav MSc Thesis shared folder/Training Model/Data required/Train_old/Tile_1 (62).tif\n",
            "/content/drive/My Drive/Kushanav MSc Thesis shared folder/Training Model/Data required/Train_old/Tile_1 (61).tif\n",
            "/content/drive/My Drive/Kushanav MSc Thesis shared folder/Training Model/Data required/Train_old/Tile_1 (58).tif\n",
            "/content/drive/My Drive/Kushanav MSc Thesis shared folder/Training Model/Data required/Train_old/Tile_1 (60).tif\n",
            "/content/drive/My Drive/Kushanav MSc Thesis shared folder/Training Model/Data required/Train_old/Tile_1 (59).tif\n",
            "/content/drive/My Drive/Kushanav MSc Thesis shared folder/Training Model/Data required/Train_old/Tile_1 (57).tif\n",
            "/content/drive/My Drive/Kushanav MSc Thesis shared folder/Training Model/Data required/Train_old/Tile_1 (79).tif\n",
            "/content/drive/My Drive/Kushanav MSc Thesis shared folder/Training Model/Data required/Train_old/Tile_1 (78).tif\n",
            "/content/drive/My Drive/Kushanav MSc Thesis shared folder/Training Model/Data required/Train_old/Tile_1 (77).tif\n",
            "/content/drive/My Drive/Kushanav MSc Thesis shared folder/Training Model/Data required/Train_old/Tile_1 (68).tif\n",
            "/content/drive/My Drive/Kushanav MSc Thesis shared folder/Training Model/Data required/Train_old/Tile_1 (67).tif\n",
            "/content/drive/My Drive/Kushanav MSc Thesis shared folder/Training Model/Data required/Train_old/Tile_1 (66).tif\n",
            "/content/drive/My Drive/Kushanav MSc Thesis shared folder/Training Model/Data required/Train_old/Tile_1 (65).tif\n",
            "/content/drive/My Drive/Kushanav MSc Thesis shared folder/Training Model/Data required/Train_old/Tile_1 (56).tif\n",
            "/content/drive/My Drive/Kushanav MSc Thesis shared folder/Training Model/Data required/Train_old/Tile_1 (145).tif\n",
            "/content/drive/My Drive/Kushanav MSc Thesis shared folder/Training Model/Data required/Train_old/Tile_1 (143).tif\n",
            "/content/drive/My Drive/Kushanav MSc Thesis shared folder/Training Model/Data required/Train_old/Tile_1 (142).tif\n",
            "/content/drive/My Drive/Kushanav MSc Thesis shared folder/Training Model/Data required/Train_old/Tile_1 (141).tif\n",
            "/content/drive/My Drive/Kushanav MSc Thesis shared folder/Training Model/Data required/Train_old/Tile_1 (140).tif\n",
            "/content/drive/My Drive/Kushanav MSc Thesis shared folder/Training Model/Data required/Train_old/Tile_1 (136).tif\n",
            "/content/drive/My Drive/Kushanav MSc Thesis shared folder/Training Model/Data required/Train_old/Tile_1 (137).tif\n",
            "/content/drive/My Drive/Kushanav MSc Thesis shared folder/Training Model/Data required/Train_old/Tile_1 (138).tif\n",
            "/content/drive/My Drive/Kushanav MSc Thesis shared folder/Training Model/Data required/Train_old/Tile_1 (139).tif\n",
            "/content/drive/My Drive/Kushanav MSc Thesis shared folder/Training Model/Data required/Train_old/Tile_1 (135).tif\n",
            "/content/drive/My Drive/Kushanav MSc Thesis shared folder/Training Model/Data required/Train_old/Tile_1 (127).tif\n",
            "/content/drive/My Drive/Kushanav MSc Thesis shared folder/Training Model/Data required/Train_old/Tile_1 (133).tif\n",
            "/content/drive/My Drive/Kushanav MSc Thesis shared folder/Training Model/Data required/Train_old/Tile_1 (131).tif\n",
            "/content/drive/My Drive/Kushanav MSc Thesis shared folder/Training Model/Data required/Train_old/Tile_1 (128).tif\n",
            "/content/drive/My Drive/Kushanav MSc Thesis shared folder/Training Model/Data required/Train_old/Tile_1 (129).tif\n",
            "/content/drive/My Drive/Kushanav MSc Thesis shared folder/Training Model/Data required/Train_old/Tile_1 (125).tif\n",
            "/content/drive/My Drive/Kushanav MSc Thesis shared folder/Training Model/Data required/Train_old/Tile_1 (132).tif\n",
            "/content/drive/My Drive/Kushanav MSc Thesis shared folder/Training Model/Data required/Train_old/Tile_1 (130).tif\n",
            "/content/drive/My Drive/Kushanav MSc Thesis shared folder/Training Model/Data required/Train_old/Tile_1 (144).tif\n",
            "/content/drive/My Drive/Kushanav MSc Thesis shared folder/Training Model/Data required/Train_old/Tile_1 (134).tif\n",
            "/content/drive/My Drive/Kushanav MSc Thesis shared folder/Training Model/Data required/Train_old/Tile_1 (124).tif\n",
            "/content/drive/My Drive/Kushanav MSc Thesis shared folder/Training Model/Data required/Train_old/Tile_1 (126).tif\n",
            "/content/drive/My Drive/Kushanav MSc Thesis shared folder/Training Model/Data required/Train_old/Tile_1 (189).tif\n",
            "/content/drive/My Drive/Kushanav MSc Thesis shared folder/Training Model/Data required/Train_old/Tile_1 (190).tif\n",
            "/content/drive/My Drive/Kushanav MSc Thesis shared folder/Training Model/Data required/Train_old/Tile_1 (188).tif\n",
            "/content/drive/My Drive/Kushanav MSc Thesis shared folder/Training Model/Data required/Train_old/Tile_1 (184).tif\n",
            "/content/drive/My Drive/Kushanav MSc Thesis shared folder/Training Model/Data required/Train_old/Tile_1 (186).tif\n",
            "/content/drive/My Drive/Kushanav MSc Thesis shared folder/Training Model/Data required/Train_old/Tile_1 (185).tif\n",
            "/content/drive/My Drive/Kushanav MSc Thesis shared folder/Training Model/Data required/Train_old/Tile_1 (183).tif\n",
            "/content/drive/My Drive/Kushanav MSc Thesis shared folder/Training Model/Data required/Train_old/Tile_1 (187).tif\n",
            "/content/drive/My Drive/Kushanav MSc Thesis shared folder/Training Model/Data required/Train_old/Tile_1 (192).tif\n",
            "/content/drive/My Drive/Kushanav MSc Thesis shared folder/Training Model/Data required/Train_old/Tile_1 (191).tif\n",
            "/content/drive/My Drive/Kushanav MSc Thesis shared folder/Training Model/Data required/Train_old/Tile_1 (182).tif\n",
            "/content/drive/My Drive/Kushanav MSc Thesis shared folder/Training Model/Data required/Train_old/Tile_1 (178).tif\n",
            "/content/drive/My Drive/Kushanav MSc Thesis shared folder/Training Model/Data required/Train_old/Tile_1 (177).tif\n",
            "/content/drive/My Drive/Kushanav MSc Thesis shared folder/Training Model/Data required/Train_old/Tile_1 (175).tif\n",
            "/content/drive/My Drive/Kushanav MSc Thesis shared folder/Training Model/Data required/Train_old/Tile_1 (171).tif\n",
            "/content/drive/My Drive/Kushanav MSc Thesis shared folder/Training Model/Data required/Train_old/Tile_1 (173).tif\n",
            "/content/drive/My Drive/Kushanav MSc Thesis shared folder/Training Model/Data required/Train_old/Tile_1 (176).tif\n",
            "/content/drive/My Drive/Kushanav MSc Thesis shared folder/Training Model/Data required/Train_old/Tile_1 (172).tif\n",
            "/content/drive/My Drive/Kushanav MSc Thesis shared folder/Training Model/Data required/Train_old/Tile_1 (174).tif\n",
            "/content/drive/My Drive/Kushanav MSc Thesis shared folder/Training Model/Data required/Train_old/Tile_1 (181).tif\n",
            "/content/drive/My Drive/Kushanav MSc Thesis shared folder/Training Model/Data required/Train_old/Tile_1 (180).tif\n",
            "/content/drive/My Drive/Kushanav MSc Thesis shared folder/Training Model/Data required/Train_old/Tile_1 (170).tif\n",
            "/content/drive/My Drive/Kushanav MSc Thesis shared folder/Training Model/Data required/Train_old/Tile_1 (179).tif\n",
            "/content/drive/My Drive/Kushanav MSc Thesis shared folder/Training Model/Data required/Train_old/Tile_1 (166).tif\n",
            "/content/drive/My Drive/Kushanav MSc Thesis shared folder/Training Model/Data required/Train_old/Tile_1 (165).tif\n",
            "/content/drive/My Drive/Kushanav MSc Thesis shared folder/Training Model/Data required/Train_old/Tile_1 (164).tif\n",
            "/content/drive/My Drive/Kushanav MSc Thesis shared folder/Training Model/Data required/Train_old/Tile_1 (163).tif\n",
            "/content/drive/My Drive/Kushanav MSc Thesis shared folder/Training Model/Data required/Train_old/Tile_1 (160).tif\n",
            "/content/drive/My Drive/Kushanav MSc Thesis shared folder/Training Model/Data required/Train_old/Tile_1 (162).tif\n",
            "/content/drive/My Drive/Kushanav MSc Thesis shared folder/Training Model/Data required/Train_old/Tile_1 (159).tif\n",
            "/content/drive/My Drive/Kushanav MSc Thesis shared folder/Training Model/Data required/Train_old/Tile_1 (161).tif\n",
            "/content/drive/My Drive/Kushanav MSc Thesis shared folder/Training Model/Data required/Train_old/Tile_1 (169).tif\n",
            "/content/drive/My Drive/Kushanav MSc Thesis shared folder/Training Model/Data required/Train_old/Tile_1 (168).tif\n",
            "/content/drive/My Drive/Kushanav MSc Thesis shared folder/Training Model/Data required/Train_old/Tile_1 (167).tif\n",
            "/content/drive/My Drive/Kushanav MSc Thesis shared folder/Training Model/Data required/Train_old/Tile_1 (158).tif\n",
            "/content/drive/My Drive/Kushanav MSc Thesis shared folder/Training Model/Data required/Train_old/Tile_1 (148).tif\n",
            "/content/drive/My Drive/Kushanav MSc Thesis shared folder/Training Model/Data required/Train_old/Tile_1 (152).tif\n",
            "/content/drive/My Drive/Kushanav MSc Thesis shared folder/Training Model/Data required/Train_old/Tile_1 (154).tif\n",
            "/content/drive/My Drive/Kushanav MSc Thesis shared folder/Training Model/Data required/Train_old/Tile_1 (149).tif\n",
            "/content/drive/My Drive/Kushanav MSc Thesis shared folder/Training Model/Data required/Train_old/Tile_1 (150).tif\n",
            "/content/drive/My Drive/Kushanav MSc Thesis shared folder/Training Model/Data required/Train_old/Tile_1 (153).tif\n",
            "/content/drive/My Drive/Kushanav MSc Thesis shared folder/Training Model/Data required/Train_old/Tile_1 (147).tif\n",
            "/content/drive/My Drive/Kushanav MSc Thesis shared folder/Training Model/Data required/Train_old/Tile_1 (151).tif\n",
            "/content/drive/My Drive/Kushanav MSc Thesis shared folder/Training Model/Data required/Train_old/Tile_1 (157).tif\n",
            "/content/drive/My Drive/Kushanav MSc Thesis shared folder/Training Model/Data required/Train_old/Tile_1 (156).tif\n",
            "/content/drive/My Drive/Kushanav MSc Thesis shared folder/Training Model/Data required/Train_old/Tile_1 (146).tif\n",
            "/content/drive/My Drive/Kushanav MSc Thesis shared folder/Training Model/Data required/Train_old/Tile_1 (155).tif\n",
            "/content/drive/My Drive/Kushanav MSc Thesis shared folder/Training Model/Data required/Train_old/Tile_1 (6).tif\n",
            "/content/drive/My Drive/Kushanav MSc Thesis shared folder/Training Model/Data required/Train_old/Tile_1 (3).tif\n",
            "/content/drive/My Drive/Kushanav MSc Thesis shared folder/Training Model/Data required/Train_old/Tile_1 (2).tif\n",
            "/content/drive/My Drive/Kushanav MSc Thesis shared folder/Training Model/Data required/Train_old/Tile_1 (1).tif\n",
            "/content/drive/My Drive/Kushanav MSc Thesis shared folder/Training Model/Data required/Train_old/Tile_1 (206).tif\n",
            "/content/drive/My Drive/Kushanav MSc Thesis shared folder/Training Model/Data required/Train_old/Tile_1 (208).tif\n",
            "/content/drive/My Drive/Kushanav MSc Thesis shared folder/Training Model/Data required/Train_old/Tile_1 (209).tif\n",
            "/content/drive/My Drive/Kushanav MSc Thesis shared folder/Training Model/Data required/Train_old/Tile_1 (207).tif\n",
            "/content/drive/My Drive/Kushanav MSc Thesis shared folder/Training Model/Data required/Train_old/Tile_1 (210).tif\n",
            "/content/drive/My Drive/Kushanav MSc Thesis shared folder/Training Model/Data required/Train_old/Tile_1 (5).tif\n",
            "/content/drive/My Drive/Kushanav MSc Thesis shared folder/Training Model/Data required/Train_old/Tile_1 (4).tif\n",
            "/content/drive/My Drive/Kushanav MSc Thesis shared folder/Training Model/Data required/Train_old/Tile_1 (205).tif\n",
            "/content/drive/My Drive/Kushanav MSc Thesis shared folder/Training Model/Data required/Train_old/Tile_1 (202).tif\n",
            "/content/drive/My Drive/Kushanav MSc Thesis shared folder/Training Model/Data required/Train_old/Tile_1 (200).tif\n",
            "/content/drive/My Drive/Kushanav MSc Thesis shared folder/Training Model/Data required/Train_old/Tile_1 (201).tif\n",
            "/content/drive/My Drive/Kushanav MSc Thesis shared folder/Training Model/Data required/Train_old/Tile_1 (197).tif\n",
            "/content/drive/My Drive/Kushanav MSc Thesis shared folder/Training Model/Data required/Train_old/Tile_1 (198).tif\n",
            "/content/drive/My Drive/Kushanav MSc Thesis shared folder/Training Model/Data required/Train_old/Tile_1 (195).tif\n",
            "/content/drive/My Drive/Kushanav MSc Thesis shared folder/Training Model/Data required/Train_old/Tile_1 (199).tif\n",
            "/content/drive/My Drive/Kushanav MSc Thesis shared folder/Training Model/Data required/Train_old/Tile_1 (196).tif\n",
            "/content/drive/My Drive/Kushanav MSc Thesis shared folder/Training Model/Data required/Train_old/Tile_1 (204).tif\n",
            "/content/drive/My Drive/Kushanav MSc Thesis shared folder/Training Model/Data required/Train_old/Tile_1 (203).tif\n",
            "/content/drive/My Drive/Kushanav MSc Thesis shared folder/Training Model/Data required/Train_old/Tile_1 (194).tif\n",
            "/content/drive/My Drive/Kushanav MSc Thesis shared folder/Training Model/Data required/Train_old/Tile_1 (193).tif\n",
            "Conversion of single image bands into 3-bands successful !!!\n"
          ],
          "name": "stdout"
        }
      ]
    }
  ]
}