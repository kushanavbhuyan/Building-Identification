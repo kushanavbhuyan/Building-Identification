{
  "nbformat": 4,
  "nbformat_minor": 0,
  "metadata": {
    "kernelspec": {
      "display_name": "unet",
      "language": "python",
      "name": "unet"
    },
    "language_info": {
      "codemirror_mode": {
        "name": "ipython",
        "version": 3
      },
      "file_extension": ".py",
      "mimetype": "text/x-python",
      "name": "python",
      "nbconvert_exporter": "python",
      "pygments_lexer": "ipython3",
      "version": "3.7.9"
    },
    "colab": {
      "name": "Pre-process datasets.ipynb",
      "provenance": [],
      "include_colab_link": true
    }
  },
  "cells": [
    {
      "cell_type": "markdown",
      "metadata": {
        "id": "view-in-github",
        "colab_type": "text"
      },
      "source": [
        "<a href=\"https://colab.research.google.com/github/kushanavbhuyan/U-Net-code-for-Building-Detection/blob/main/Pre_process_datasets.ipynb\" target=\"_parent\"><img src=\"https://colab.research.google.com/assets/colab-badge.svg\" alt=\"Open In Colab\"/></a>"
      ]
    },
    {
      "cell_type": "markdown",
      "metadata": {
        "id": "JGM9SGXyc-sM"
      },
      "source": [
        "# Pre-Processing Dataset"
      ]
    },
    {
      "cell_type": "markdown",
      "metadata": {
        "id": "dbR9P55Pc-sM"
      },
      "source": [
        "## Import libraries"
      ]
    },
    {
      "cell_type": "code",
      "metadata": {
        "id": "RFCpjywic-sM"
      },
      "source": [
        "import time\n",
        "import cv2\n",
        "import gdal\n",
        "import os\n",
        "import glob\n",
        "import numpy as np"
      ],
      "execution_count": null,
      "outputs": []
    },
    {
      "cell_type": "markdown",
      "metadata": {
        "id": "EigFgpntc-sM"
      },
      "source": [
        "## Rename files into a desired nomenclature"
      ]
    },
    {
      "cell_type": "markdown",
      "metadata": {
        "id": "0leAQea9c-sM"
      },
      "source": [
        "### For label images"
      ]
    },
    {
      "cell_type": "code",
      "metadata": {
        "id": "-Yqnyv2Gc-sM"
      },
      "source": [
        "entry = \"C:/Msc Research/Thesis Phase/Data Pre-processing/Main data/Rasterised sites/Site 1/Tiles/Mask/tiles/\"\n",
        "exit = \"C:/Msc Research/Thesis Phase/Data Pre-processing/Main data/Rasterised sites/Site 1/Tiles/Mask/rename/\""
      ],
      "execution_count": null,
      "outputs": []
    },
    {
      "cell_type": "code",
      "metadata": {
        "id": "XEBU_c9wc-sM",
        "outputId": "55cf3a73-bcfc-4ac9-9c4b-e69e9e02dab5"
      },
      "source": [
        "%time\n",
        "#from os import listdir\n",
        "code = \"A1\" #Tile 1\n",
        "\n",
        "#Function to rename multiple files\n",
        "for count, filename in enumerate(os.listdir(entry)):\n",
        "  dst = exit + \"/\" + code + filename[6:]\n",
        "  src = entry + \"/\" + filename\n",
        "  \n",
        "  # rename() will rename all the files and save in a new directory but it deleted entry files (careful!!!)\n",
        "  os.rename(src, dst) \n",
        "\n",
        "print(\"Succesfull !!\")"
      ],
      "execution_count": null,
      "outputs": [
        {
          "output_type": "stream",
          "text": [
            "Wall time: 0 ns\n",
            "Succesfull !!\n"
          ],
          "name": "stdout"
        }
      ]
    },
    {
      "cell_type": "markdown",
      "metadata": {
        "id": "jIguHe_9c-sN"
      },
      "source": [
        "### For satellite images"
      ]
    },
    {
      "cell_type": "code",
      "metadata": {
        "id": "-SJ8XF6Tc-sN"
      },
      "source": [
        "entry = \"C:/Msc Research/Thesis Phase/Data Pre-processing/Main data/Rasterised sites/Site 1/Tiles/Image/tiles/\"\n",
        "exit = \"C:/Msc Research/Thesis Phase/Data Pre-processing/Main data/Rasterised sites/Site 1/Tiles/Image/rename/\""
      ],
      "execution_count": null,
      "outputs": []
    },
    {
      "cell_type": "code",
      "metadata": {
        "id": "c062TIV0c-sN",
        "outputId": "c5563556-c4f8-45c7-9130-eeb50415bb84"
      },
      "source": [
        "%time\n",
        "#from os import listdir\n",
        "code = \"A1\" #Tile 1\n",
        "\n",
        "#Function to rename multiple files\n",
        "for count, filename in enumerate(os.listdir(entry)):\n",
        "  dst = exit + \"/\" + code + filename[6:]\n",
        "  src = entry + \"/\" + filename\n",
        "  \n",
        "  # rename() will rename all the files\n",
        "  os.rename(src, dst) \n",
        "\n",
        "print(\"Succesfull !!\")"
      ],
      "execution_count": null,
      "outputs": [
        {
          "output_type": "stream",
          "text": [
            "Wall time: 0 ns\n",
            "Succesfull !!\n"
          ],
          "name": "stdout"
        }
      ]
    },
    {
      "cell_type": "markdown",
      "metadata": {
        "id": "qM8bPEj_c-sN"
      },
      "source": [
        "## Convert a single-band image to a three-band (channel) image"
      ]
    },
    {
      "cell_type": "code",
      "metadata": {
        "id": "E6vLCqmOc-sN"
      },
      "source": [
        "images = [cv2.imread(file) for file in glob.glob(\"C:/Msc Research/Thesis Phase/Data Pre-processing/Main data/Rasterised sites/Site 1/Tiles/Mask/rename/*.tif\")]\n",
        "directory = \"C:/Msc Research/Thesis Phase/Data Pre-processing/Main data/Rasterised sites/Site 1/Tiles/Mask/3-band/\""
      ],
      "execution_count": null,
      "outputs": []
    },
    {
      "cell_type": "code",
      "metadata": {
        "id": "GR5OGn5zc-sN",
        "outputId": "ed40bd73-d590-4760-c8bd-165d1234de3b"
      },
      "source": [
        "for read in glob.glob(\"C:/Msc Research/Thesis Phase/Data Pre-processing/Main data/Rasterised sites/Site 1/Tiles/Mask/rename/*.tif\"):\n",
        "    name=read[-9:]\n",
        "    \n",
        "    image_data = gdal.Open(read)  \n",
        "    bands = [image_data.GetRasterBand(i+1).ReadAsArray() for i in range(image_data.RasterCount)]\n",
        "    bands = np.stack(bands, axis = 2)\n",
        "    bands = np.concatenate((bands, bands, bands), axis=2)\n",
        "\n",
        "    cv2.imwrite(os.path.join(directory + name), bands)\n",
        "    \n",
        "print(\"Conversion of single-band image into 3-bands image successful !!!\")"
      ],
      "execution_count": null,
      "outputs": [
        {
          "output_type": "stream",
          "text": [
            "Conversion of single-band image into 3-bands image successful !!!\n"
          ],
          "name": "stdout"
        }
      ]
    }
  ]
}