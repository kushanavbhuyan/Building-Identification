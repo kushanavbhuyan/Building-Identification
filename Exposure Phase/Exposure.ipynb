{
 "cells": [
  {
   "cell_type": "markdown",
   "id": "2fc0844d-c899-405d-ac38-ab0ff65402d3",
   "metadata": {},
   "source": [
    "# Exposure Assessment with RiskChanges Desktop\n"
   ]
  },
  {
   "cell_type": "code",
   "execution_count": 1,
   "id": "779d98dc-0ecd-4363-90d3-ceca1fd90e59",
   "metadata": {},
   "outputs": [],
   "source": [
    "# !pip install RiskChangesDesktop\n",
    "import RiskChangesDesktop as RCD\n",
    "from RiskChangesDesktop import DataManage\n",
    "import Exposure\n",
    "from RiskChangesDesktop import Loss\n",
    "from RiskChangesDesktop import Risk"
   ]
  },
  {
   "cell_type": "code",
   "execution_count": 2,
   "id": "4058eaec-1225-42bd-98b4-2676dbdaaf89",
   "metadata": {},
   "outputs": [
    {
     "data": {
      "text/plain": [
       "'The projection system EPSG code fo the vector data/footprint data/Kollam/footprints.shp is 7781 '"
      ]
     },
     "execution_count": 2,
     "metadata": {},
     "output_type": "execute_result"
    }
   ],
   "source": [
    "DataManage.CheckProjectionVector(\"data/footprint data/Kollam/footprints.shp\")"
   ]
  },
  {
   "cell_type": "code",
   "execution_count": 3,
   "id": "b7fb3761-adc7-4aaf-a18c-6da3c82a46a2",
   "metadata": {},
   "outputs": [
    {
     "data": {
      "text/plain": [
       "'The projection system EPSG code fo the vector data/block data/Kollam/block.shp is 7781 '"
      ]
     },
     "execution_count": 3,
     "metadata": {},
     "output_type": "execute_result"
    }
   ],
   "source": [
    "DataManage.CheckProjectionVector(\"data/block data/Kollam/block.shp\")"
   ]
  },
  {
   "cell_type": "code",
   "execution_count": 4,
   "id": "29ba0e9f-2a7c-4124-a322-a25f06f7d564",
   "metadata": {},
   "outputs": [
    {
     "data": {
      "text/plain": [
       "'Both are in same projection system, no projection required'"
      ]
     },
     "execution_count": 4,
     "metadata": {},
     "output_type": "execute_result"
    }
   ],
   "source": [
    "DataManage.MatchProjection(\"data/flood data/Kollam/flood_kollam.tif\", \"data/footprint data/Kollam/footprints.shp\")"
   ]
  },
  {
   "cell_type": "markdown",
   "id": "a7ab8615-cc87-4032-9dc2-614ebb7d492c",
   "metadata": {},
   "source": [
    "**Evaluate exposure on the block level**"
   ]
  },
  {
   "cell_type": "code",
   "execution_count": 9,
   "id": "f8707c8b-4a4a-46bc-8d22-09e28dae2457",
   "metadata": {},
   "outputs": [],
   "source": [
    "ear_block=\"data/block data/Kollam/block.shp\"\n",
    "susceptibility=\"data/flood data/Kollam/flood_kollam.tif\"\n",
    "ear_key_block=\"Block_numb\"\n",
    "outputname=\"data/exposure output/Kollam/exposure_block\"\n",
    "outputformat=\"shp\""
   ]
  },
  {
   "cell_type": "code",
   "execution_count": 10,
   "id": "f73932df-0fd9-413b-9bd6-a87a15159316",
   "metadata": {},
   "outputs": [
    {
     "data": {
      "application/vnd.jupyter.widget-view+json": {
       "model_id": "6975c3819bd046ab80fb2750102eba35",
       "version_major": 2,
       "version_minor": 0
      },
      "text/plain": [
       "  0%|          | 0/54 [00:00<?, ?it/s]"
      ]
     },
     "metadata": {},
     "output_type": "display_data"
    }
   ],
   "source": [
    "Exposure.ComputeExposure(ear_block, susceptibility, ear_key_block, outputname, outputformat)"
   ]
  },
  {
   "cell_type": "markdown",
   "id": "b3e961dd-0f64-4bb1-a025-c9902336c216",
   "metadata": {},
   "source": [
    "**Evaluate aggregated exposure on the footprint level with the blocks as admin unit**"
   ]
  },
  {
   "cell_type": "code",
   "execution_count": 11,
   "id": "0210dc81-14a3-460a-8255-39cf17793509",
   "metadata": {},
   "outputs": [],
   "source": [
    "ear_foot=\"data/footprint data/Kollam/footprints.shp\"\n",
    "susceptibility=\"data/flood data/Kollam/flood_kollam.tif\"\n",
    "ear_key_foot=\"OBJECTID\"\n",
    "admin_unit=\"data/block data/Kollam/block.shp\"\n",
    "agg_col=\"Block_numb\"\n",
    "outputname=\"data/exposure output/Kollam/exposure_assessed_foot_agg\"\n",
    "outputformat=\"shp\""
   ]
  },
  {
   "cell_type": "code",
   "execution_count": 12,
   "id": "027aa70d-f9a7-44f7-ac96-7ac96996b25d",
   "metadata": {},
   "outputs": [
    {
     "name": "stderr",
     "output_type": "stream",
     "text": [
      "/data/private/Exposure/Exposure.py:198: UserWarning: Column names longer than 10 characters will be truncated when saved to ESRI Shapefile.\n",
      "  ear_temp.to_file(tempfile)\n"
     ]
    },
    {
     "data": {
      "application/vnd.jupyter.widget-view+json": {
       "model_id": "57ea355d77044a50a388d95e938fc804",
       "version_major": 2,
       "version_minor": 0
      },
      "text/plain": [
       "  0%|          | 0/9692 [00:00<?, ?it/s]"
      ]
     },
     "metadata": {},
     "output_type": "display_data"
    },
    {
     "name": "stderr",
     "output_type": "stream",
     "text": [
      "/data/private/Exposure/Exposure.py:173: UserWarning: Column names longer than 10 characters will be truncated when saved to ESRI Shapefile.\n",
      "  df.to_file(outputname+\".shp\")\n"
     ]
    }
   ],
   "source": [
    "Exposure.ComputeExposureAgg(ear=ear_foot, hazard=susceptibility, ear_key=ear_key_foot, \n",
    "                            admin_unit=admin_unit, agg_col=agg_col, outputname=outputname, outputformat=outputformat)"
   ]
  }
 ],
 "metadata": {
  "kernelspec": {
   "display_name": "Python",
   "language": "python",
   "name": "python3"
  },
  "language_info": {
   "codemirror_mode": {
    "name": "ipython",
    "version": 3
   },
   "file_extension": ".py",
   "mimetype": "text/x-python",
   "name": "python",
   "nbconvert_exporter": "python",
   "pygments_lexer": "ipython3",
   "version": "3.8.5"
  }
 },
 "nbformat": 4,
 "nbformat_minor": 5
}
