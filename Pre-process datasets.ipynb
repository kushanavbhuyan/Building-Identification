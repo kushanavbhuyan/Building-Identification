{
 "cells": [
  {
   "cell_type": "markdown",
   "metadata": {},
   "source": [
    "# Pre-Processing Dataset"
   ]
  },
  {
   "cell_type": "markdown",
   "metadata": {},
   "source": [
    "## Import libraries"
   ]
  },
  {
   "cell_type": "code",
   "execution_count": 1,
   "metadata": {},
   "outputs": [],
   "source": [
    "import time\n",
    "import cv2\n",
    "import gdal\n",
    "import os\n",
    "import glob\n",
    "import numpy as np"
   ]
  },
  {
   "cell_type": "markdown",
   "metadata": {},
   "source": [
    "## Rename files into a desired nomenclature"
   ]
  },
  {
   "cell_type": "markdown",
   "metadata": {},
   "source": [
    "### For label images"
   ]
  },
  {
   "cell_type": "code",
   "execution_count": 10,
   "metadata": {},
   "outputs": [],
   "source": [
    "entry = \"C:/Msc Research/Thesis Phase/Data Pre-processing/Main data/Rasterised sites/Site 1/Tiles/Mask/tiles/\"\n",
    "exit = \"C:/Msc Research/Thesis Phase/Data Pre-processing/Main data/Rasterised sites/Site 1/Tiles/Mask/rename/\""
   ]
  },
  {
   "cell_type": "code",
   "execution_count": 11,
   "metadata": {},
   "outputs": [
    {
     "name": "stdout",
     "output_type": "stream",
     "text": [
      "Wall time: 0 ns\n",
      "Succesfull !!\n"
     ]
    }
   ],
   "source": [
    "%%time\n",
    
    "code = \"A1\" #Tile 1\n",
    "\n",
    "#Function to rename multiple files\n",
    "for count, filename in enumerate(os.listdir(entry)):\n",
    "  dst = exit + \"/\" + code + filename[6:]\n",
    "  src = entry + \"/\" + filename\n",
    "  \n",
    "  # rename() will rename all the files and save in a new directory but it deleted entry files (careful!!!)\n",
    "  os.rename(src, dst) \n",
    "\n",
    "print(\"Succesfull !!\")"
   ]
  },
  {
   "cell_type": "markdown",
   "metadata": {},
   "source": [
    "### For satellite images"
   ]
  },
  {
   "cell_type": "code",
   "execution_count": 2,
   "metadata": {},
   "outputs": [],
   "source": [
    "entry = \"C:/Msc Research/Thesis Phase/Data Pre-processing/Main data/Rasterised sites/Site 1/Tiles/Image/tiles/\"\n",
    "exit = \"C:/Msc Research/Thesis Phase/Data Pre-processing/Main data/Rasterised sites/Site 1/Tiles/Image/rename/\""
   ]
  },
  {
   "cell_type": "code",
   "execution_count": 3,
   "metadata": {},
   "outputs": [
    {
     "name": "stdout",
     "output_type": "stream",
     "text": [
      "Wall time: 0 ns\n",
      "Succesfull !!\n"
     ]
    }
   ],
   "source": [
    "%time\n",
    
    "code = \"A1\" #Tile 1\n",
    "\n",
    "#Function to rename multiple files\n",
    "for count, filename in enumerate(os.listdir(entry)):\n",
    "  dst = exit + \"/\" + code + filename[6:]\n",
    "  src = entry + \"/\" + filename\n",
    "  \n",
    "  # rename() will rename all the files\n",
    "  os.rename(src, dst) \n",
    "\n",
    "print(\"Succesfull !!\")"
   ]
  },
  {
   "cell_type": "markdown",
   "metadata": {},
   "source": [
    "## Convert a single-band image to a three-band (channel) image"
   ]
  },
  {
   "cell_type": "code",
   "execution_count": 15,
   "metadata": {},
   "outputs": [],
   "source": [
    "images = [cv2.imread(file) for file in glob.glob(\"C:/Msc Research/Thesis Phase/Data Pre-processing/Main data/Rasterised sites/Site 1/Tiles/Mask/rename/*.tif\")]\n",
    "directory = \"C:/Msc Research/Thesis Phase/Data Pre-processing/Main data/Rasterised sites/Site 1/Tiles/Mask/3-band/\""
   ]
  },
  {
   "cell_type": "code",
   "execution_count": 28,
   "metadata": {},
   "outputs": [
    {
     "name": "stdout",
     "output_type": "stream",
     "text": [
      "Conversion of single-band image into 3-bands image successful !!!\n"
     ]
    }
   ],
   "source": [
    "for read in glob.glob(\"C:/Msc Research/Thesis Phase/Data Pre-processing/Main data/Rasterised sites/Site 1/Tiles/Mask/rename/*.tif\"):\n",
    "    name=read[-9:]\n",
    "    \n",
    "    image_data = gdal.Open(read)  \n",
    "    bands = [image_data.GetRasterBand(i+1).ReadAsArray() for i in range(image_data.RasterCount)]\n",
    "    bands = np.stack(bands, axis = 2)\n",
    "    bands = np.concatenate((bands, bands, bands), axis=2)\n",
    "\n",
    "    cv2.imwrite(os.path.join(directory + name), bands)\n",
    "    \n",
    "print(\"Conversion of single-band image into 3-bands image successful !!!\")"
   ]
  }
 ],
 "metadata": {
  "kernelspec": {
   "display_name": "unet",
   "language": "python",
   "name": "unet"
  },
  "language_info": {
   "codemirror_mode": {
    "name": "ipython",
    "version": 3
   },
   "file_extension": ".py",
   "mimetype": "text/x-python",
   "name": "python",
   "nbconvert_exporter": "python",
   "pygments_lexer": "ipython3",
   "version": "3.7.9"
  }
 },
 "nbformat": 4,
 "nbformat_minor": 4
}
